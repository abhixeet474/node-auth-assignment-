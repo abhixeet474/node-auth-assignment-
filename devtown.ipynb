{
 "cells": [
  {
   "cell_type": "code",
   "execution_count": null,
   "id": "822554f3-101c-41d5-a0cf-311da1f904b3",
   "metadata": {},
   "outputs": [],
   "source": [
    "const express = require('express');\n",
    "const bodyParser = require('body-parser');\n",
    "const bcrypt = require('bcrypt');\n",
    "const jwt = require('jsonwebtoken');\n",
    "\n",
    "const app = express();\n",
    "app.use(bodyParser.json());\n",
    "\n",
    "const users = [];\n",
    "const secretKey = 'supersecretkey123'; // JWT ke liye secret key\n",
    "\n",
    "// Register route\n",
    "app.post('/register', async (req, res) => {\n",
    "  const { username, password } = req.body;\n",
    "  if (users.find(u => u.username === username)) {\n",
    "    return res.status(400).json({ message: 'User already exists' });\n",
    "  }\n",
    "  const hashedPassword = await bcrypt.hash(password, 10);\n",
    "  users.push({ username, password: hashedPassword });\n",
    "  res.json({ message: 'User registered successfully' });\n",
    "});\n",
    "\n",
    "// Login route (yahin pe JWT ka token response me bheja jaata hai)\n",
    "app.post('/login', async (req, res) => {\n",
    "  const { username, password } = req.body;\n",
    "  const user = users.find(u => u.username === username);\n",
    "  if (!user) {\n",
    "    return res.status(400).json({ message: 'User not found' });\n",
    "  }\n",
    "  const isMatch = await bcrypt.compare(password, user.password);\n",
    "  if (isMatch) {\n",
    "    const token = jwt.sign({ username: user.username }, secretKey, { expiresIn: '1h' }); // Token generate\n",
    "    return res.json({ message: 'Login successful', token }); // Token response me send\n",
    "  } else {\n",
    "    return res.status(401).json({ message: 'Invalid credentials' });\n",
    "  }\n",
    "});\n",
    "\n",
    "// Protected route - token verify karne par hi access milega\n",
    "app.get('/profile', (req, res) => {\n",
    "  const authHeader = req.headers['authorization'];\n",
    "  const token = authHeader && authHeader.split(' ')[1];\n",
    "\n",
    "  if (!token) return res.status(401).json({ message: 'No token provided' });\n",
    "\n",
    "  jwt.verify(token, secretKey, (err, user) => {\n",
    "    if (err) return res.status(403).json({ message: 'Invalid token' });\n",
    "    res.json({ message: 'Profile accessed', user });\n",
    "  });\n",
    "});\n",
    "\n",
    "app.listen(3000, () => console.log('Server running on port 3000'));"
   ]
  }
 ],
 "metadata": {
  "kernelspec": {
   "display_name": "Python 3 (ipykernel)",
   "language": "python",
   "name": "python3"
  },
  "language_info": {
   "codemirror_mode": {
    "name": "ipython",
    "version": 3
   },
   "file_extension": ".py",
   "mimetype": "text/x-python",
   "name": "python",
   "nbconvert_exporter": "python",
   "pygments_lexer": "ipython3",
   "version": "3.13.7"
  }
 },
 "nbformat": 4,
 "nbformat_minor": 5
}
